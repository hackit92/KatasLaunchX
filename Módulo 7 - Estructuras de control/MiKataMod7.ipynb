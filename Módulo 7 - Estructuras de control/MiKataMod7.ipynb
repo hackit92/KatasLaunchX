{
 "cells": [
  {
   "cell_type": "code",
   "execution_count": 6,
   "metadata": {},
   "outputs": [],
   "source": [
    "# Declara dos variables\n",
    "\n",
    "new_planet = \"\"\n",
    "planets = []"
   ]
  },
  {
   "cell_type": "code",
   "execution_count": 7,
   "metadata": {},
   "outputs": [
    {
     "ename": "AttributeError",
     "evalue": "'function' object has no attribute 'lower'",
     "output_type": "error",
     "traceback": [
      "\u001b[0;31m---------------------------------------------------------------------------\u001b[0m",
      "\u001b[0;31mAttributeError\u001b[0m                            Traceback (most recent call last)",
      "\u001b[1;32m/Users/abrahamfonseca/Documents/Programacion/LaunchX/Onboarding/KatasLaunchX/Módulo 7 - Estructuras de control/MiKataMod7.ipynb Cell 2'\u001b[0m in \u001b[0;36m<module>\u001b[0;34m\u001b[0m\n\u001b[1;32m      <a href='vscode-notebook-cell:/Users/abrahamfonseca/Documents/Programacion/LaunchX/Onboarding/KatasLaunchX/M%C3%B3dulo%207%20-%20Estructuras%20de%20control/MiKataMod7.ipynb#ch0000001?line=2'>3</a>\u001b[0m \u001b[39mif\u001b[39;00m new_planet:\n\u001b[1;32m      <a href='vscode-notebook-cell:/Users/abrahamfonseca/Documents/Programacion/LaunchX/Onboarding/KatasLaunchX/M%C3%B3dulo%207%20-%20Estructuras%20de%20control/MiKataMod7.ipynb#ch0000001?line=3'>4</a>\u001b[0m     planets\u001b[39m.\u001b[39mappend(new_planet)\n\u001b[0;32m----> <a href='vscode-notebook-cell:/Users/abrahamfonseca/Documents/Programacion/LaunchX/Onboarding/KatasLaunchX/M%C3%B3dulo%207%20-%20Estructuras%20de%20control/MiKataMod7.ipynb#ch0000001?line=4'>5</a>\u001b[0m new_planet \u001b[39m=\u001b[39m \u001b[39minput\u001b[39;49m\u001b[39m.\u001b[39;49mlower(\u001b[39m'\u001b[39m\u001b[39mEnter a new planet or type done when finished \u001b[39m\u001b[39m'\u001b[39m)\n",
      "\u001b[0;31mAttributeError\u001b[0m: 'function' object has no attribute 'lower'"
     ]
    }
   ],
   "source": [
    "# Escribe el ciclo while solicitado\n",
    "while new_planet.lower() != 'done':\n",
    "    if new_planet:\n",
    "        planets.append(new_planet)\n",
    "    new_planet = input('Enter a new planet or type done when finished ')"
   ]
  },
  {
   "cell_type": "code",
   "execution_count": 4,
   "metadata": {},
   "outputs": [
    {
     "name": "stdout",
     "output_type": "stream",
     "text": [
      "Marte\n",
      "tierra\n",
      "mercurio\n"
     ]
    }
   ],
   "source": [
    "# Escribe tu ciclo for para iterar en una lista de planetas\n",
    "\n",
    "for planet in planets:\n",
    "    print(planet)"
   ]
  }
 ],
 "metadata": {
  "interpreter": {
   "hash": "aee8b7b246df8f9039afb4144a1f6fd8d2ca17a180786b69acc140d282b71a49"
  },
  "kernelspec": {
   "display_name": "Python 3.10.2 64-bit",
   "language": "python",
   "name": "python3"
  },
  "language_info": {
   "codemirror_mode": {
    "name": "ipython",
    "version": 3
   },
   "file_extension": ".py",
   "mimetype": "text/x-python",
   "name": "python",
   "nbconvert_exporter": "python",
   "pygments_lexer": "ipython3",
   "version": "3.10.2"
  },
  "orig_nbformat": 4
 },
 "nbformat": 4,
 "nbformat_minor": 2
}
