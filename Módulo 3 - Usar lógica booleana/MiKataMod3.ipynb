{
 "cells": [
  {
   "cell_type": "markdown",
   "metadata": {},
   "source": [
    "Para este ejercicio, escribirás una lógica condicional que imprima una advertencia si un asteroide se acerca a la Tierra demasiado rápido. La velocidad del asteroide varía dependiendo de lo cerca que esté del sol, y cualquier velocidad superior a 25 kilómetros por segundo (km/s) merece una advertencia.\n",
    "\n",
    "Un asteroide se acerca, y viaja a una velocidad de 49 km/s.\n",
    "\n",
    "# Añadir el código necesario para crear una variable que guarde la velocidad del asteroide.\n",
    "# Escribe una expresión de prueba para calcular si necesita una advertencia.\n",
    "# Agregue las instrucciones que se ejecutarán si la expresión de prueba es true o false."
   ]
  },
  {
   "cell_type": "code",
   "execution_count": 11,
   "metadata": {},
   "outputs": [
    {
     "name": "stdout",
     "output_type": "stream",
     "text": [
      "Advertencia, se acerca un asteroide a 49 Km/s\n"
     ]
    }
   ],
   "source": [
    "asteroide = 49\n",
    "VelocidadSegura = 25\n",
    "if asteroide > VelocidadSegura:\n",
    "     print(\"Advertencia, se acerca un asteroide a \" + str(asteroide) + \" Km/s\") \n",
    "else:\n",
    "    print(\"Todo está en orden\")"
   ]
  },
  {
   "cell_type": "markdown",
   "metadata": {},
   "source": [
    "Si un asteroide entra en la atmósfera de la Tierra a una velocidad mayor o igual a 20 km/s, a veces produce un rayo de luz que se puede ver desde la Tierra. Escribe la lógica condicional que usa declaraciones if, else, y elif para alertar a las personas de todo el mundo que deben buscar un asteroide en el cielo. ¡Hay uno que se dirige a la tierra ahora a una velocidad de 19 km/s!"
   ]
  },
  {
   "cell_type": "code",
   "execution_count": 10,
   "metadata": {},
   "outputs": [
    {
     "name": "stdout",
     "output_type": "stream",
     "text": [
      "Todo está en orden, buen día\n"
     ]
    }
   ],
   "source": [
    "asteroide = 19\n",
    "VelocidadSegura = 20\n",
    "if asteroide >= VelocidadSegura:\n",
    "    print(\"Miren! ☾   ϟϟϟϟϟϟϟϟϟ    ⋆\")\n",
    "elif asteroide == VelocidadSegura:\n",
    "    print (\"Miren! ☾   ϟϟϟϟϟϟϟϟϟ    ⋆\")\n",
    "else:\n",
    "    print (\"Todo está en orden, buen día\")"
   ]
  },
  {
   "cell_type": "markdown",
   "metadata": {},
   "source": [
    "En este ejercicio, aprenderás información más matizada sobre cuándo los asteroides representan un peligro para la Tierra, y utilizarás esa información para mejorar nuestro sistema de advertencia. Aquí está la nueva información que necesitas saber:\n",
    "\n",
    "*Los asteroides de menos de 25 metros en su dimensión más grande probablemente se quemarán a medida que entren en la atmósfera de la Tierra.\n",
    "\n",
    "    Si una pieza de un asteroide que es más grande que 25 metros pero más pequeña que 1000 metros golpeara la Tierra, causaría mucho daño.\n",
    "\n",
    "También discutimos en el ejercicio anterior que:\n",
    "\n",
    "    La velocidad del asteroide varía en función de lo cerca que esté del sol, y cualquier velocidad superior a 25 kilómetros por segundo (km/s) merece una advertencia.\n",
    "    Si un asteroide entra en la atmósfera de la Tierra a una velocidad mayor o igual a 20 km/s, a veces produce un rayo de luz que se puede ver desde la Tierra.\n",
    "\n",
    "Usando toda esta información, escribe un programa que emita la advertencia o información correcta a la gente de la Tierra, según la velocidad y el tamaño de un asteroide. Utiliza instrucciones if, else, y elif, así como los operadores and y or."
   ]
  },
  {
   "cell_type": "code",
   "execution_count": 23,
   "metadata": {},
   "outputs": [
    {
     "name": "stdout",
     "output_type": "stream",
     "text": [
      "Destrucción inminente!!!!\n"
     ]
    }
   ],
   "source": [
    "tamaster = 1001\n",
    "velaster = 10\n",
    "VelocidadSegura = 20\n",
    "\n",
    "if (tamaster >= 25 and tamaster < 1000) and velaster > VelocidadSegura:\n",
    "    print(\"Peligro, favor de abordar las naves, se acerca un Asteroide muy grande a \" + str(velaster) + \"km/s\")\n",
    "elif tamaster >1000 or velaster > VelocidadSegura * 4:\n",
    "    print(\"Destrucción inminente!!!!\")\n",
    "elif velaster >= 20:\n",
    "    print(\"Miren! ☾   ϟϟϟϟϟϟϟϟϟ    ⋆\")\n",
    "else:\n",
    "    print (\"Todo está en orden, que tengan excelente día\")"
   ]
  }
 ],
 "metadata": {
  "interpreter": {
   "hash": "aee8b7b246df8f9039afb4144a1f6fd8d2ca17a180786b69acc140d282b71a49"
  },
  "kernelspec": {
   "display_name": "Python 3.10.2 64-bit",
   "language": "python",
   "name": "python3"
  },
  "language_info": {
   "codemirror_mode": {
    "name": "ipython",
    "version": 3
   },
   "file_extension": ".py",
   "mimetype": "text/x-python",
   "name": "python",
   "nbconvert_exporter": "python",
   "pygments_lexer": "ipython3",
   "version": "3.10.2"
  },
  "orig_nbformat": 4
 },
 "nbformat": 4,
 "nbformat_minor": 2
}
