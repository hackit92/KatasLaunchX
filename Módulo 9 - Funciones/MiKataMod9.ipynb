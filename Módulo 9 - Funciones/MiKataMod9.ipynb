{
 "cells": [
  {
   "cell_type": "code",
   "execution_count": 7,
   "metadata": {},
   "outputs": [
    {
     "name": "stdout",
     "output_type": "stream",
     "text": [
      "Reporte de tanques:\n",
      "Promedio total: 100%\n",
      "Tanque Principal: 100%\n",
      "Tanque Secundario: 100%\n",
      "Tanque de reserva: 100%\n"
     ]
    }
   ],
   "source": [
    "# Función para leer 3 tanques de combustible y muestre el promedio\n",
    "\n",
    "def generateReport (Tank1, Tank2, Tank3):\n",
    "    average = int((Tank1 + Tank2 + Tank3) / 3)\n",
    "    return f\"\"\"Reporte de tanques:\n",
    "Promedio total: {average}%\n",
    "Tanque Principal: {Tank1}%\n",
    "Tanque Secundario: {Tank2}%\n",
    "Tanque de reserva: {Tank3}%\"\"\"\n",
    "print(generateReport(100,100,100))"
   ]
  },
  {
   "cell_type": "code",
   "execution_count": 8,
   "metadata": {},
   "outputs": [
    {
     "name": "stdout",
     "output_type": "stream",
     "text": [
      "Reporte de tanques:\n",
      "Promedio total: 56%\n",
      "Tanque Principal: 85%\n",
      "Tanque Secundario: 45%\n",
      "Tanque de reserva: 38%\n"
     ]
    }
   ],
   "source": [
    "# Llamamos a la función que genera el reporte print(funcion(tanque1, tanque2, tanque3))\n",
    "print (generateReport (85,45,38))"
   ]
  },
  {
   "cell_type": "code",
   "execution_count": 10,
   "metadata": {},
   "outputs": [
    {
     "data": {
      "text/plain": [
       "55.333333333333336"
      ]
     },
     "execution_count": 10,
     "metadata": {},
     "output_type": "execute_result"
    }
   ],
   "source": [
    "# Función promedio \n",
    "def average(values):\n",
    "    total = sum(values)\n",
    "    number_of_items = len(values)\n",
    "    return total / number_of_items\n",
    "average([85, 43, 38]) "
   ]
  },
  {
   "cell_type": "code",
   "execution_count": 11,
   "metadata": {},
   "outputs": [
    {
     "name": "stdout",
     "output_type": "stream",
     "text": [
      "Reporte de tanques:\n",
      "    Promedio total: 78.33333333333333%\n",
      "    Tanque Principal: 77%\n",
      "    Tanque Secundario: 68%\n",
      "    Tanque de reserva: 90%\n"
     ]
    }
   ],
   "source": [
    "# Actualiza la función\n",
    "def generate_report(Tank1, Tank2, Tank3):\n",
    "    return f\"\"\"Reporte de tanques:\n",
    "    Promedio total: {average([Tank1, Tank2, Tank3])}%\n",
    "    Tanque Principal: {Tank1}%\n",
    "    Tanque Secundario: {Tank2}%\n",
    "    Tanque de reserva: {Tank3}%\"\"\"\n",
    "\n",
    "# Call the updated function again with different values\n",
    "print(generate_report(77, 68, 90))"
   ]
  },
  {
   "cell_type": "code",
   "execution_count": 13,
   "metadata": {},
   "outputs": [
    {
     "name": "stdout",
     "output_type": "stream",
     "text": [
      "\n",
      "    Mision a Marte\n",
      "    Tiempo de vuelo: 450.5 dias\n",
      "    Combustible restante: 500000 litros\n",
      "    \n"
     ]
    }
   ],
   "source": [
    "# Función con un informe preciso de la misión. Considera hora de prelanzamiento, tiempo de vuelo, destino, tanque externo y tanque interno\n",
    "\n",
    "def mission_report(TPreLanzamiento, TVuelo, Destino, Tank1, Tank2):\n",
    "    return f\"\"\"\n",
    "    Misión a {Destino}\n",
    "    Tiempo de vuelo: {TPreLanzamiento + TVuelo} dias\n",
    "    Combustible restante: {Tank2 + Tank1} litros\n",
    "    \"\"\"\n",
    "\n",
    "print(mission_report(.5, 450, \"Marte\", 200000, 300000))"
   ]
  },
  {
   "cell_type": "code",
   "execution_count": 24,
   "metadata": {},
   "outputs": [
    {
     "name": "stdout",
     "output_type": "stream",
     "text": [
      "\n",
      "    Misión a La Luna\n",
      "    Tiempo de vuelo: 474 días\n",
      "    Combustible restante: 100000 litros\n",
      "    \n"
     ]
    }
   ],
   "source": [
    "# Escribe tu nueva función de reporte considerando lo anterior\n",
    "def mission_report(Destino, *dias, **ReservaComb):\n",
    "    return f\"\"\"\n",
    "    Misión a {Destino}\n",
    "    Tiempo de vuelo: {sum(dias)} días\n",
    "    Combustible restante: {sum(ReservaComb.values())} litros\n",
    "    \"\"\"\n",
    "\n",
    "print(mission_report(\"La Luna\", 8, 315, 151, principal=55000, reserva=45000))"
   ]
  },
  {
   "cell_type": "code",
   "execution_count": 33,
   "metadata": {},
   "outputs": [
    {
     "name": "stdout",
     "output_type": "stream",
     "text": [
      "\n",
      "    Misión a Júpiter\n",
      "    Tiempo del vuelo: 374 días\n",
      "    Combustible restante: 50000 galones\n",
      "    Tanque principal = 30000 galones \n",
      "Tanque reserva = 20000 galones \n",
      "\n"
     ]
    }
   ],
   "source": [
    "# Escribe tu nueva función\n",
    "\n",
    "def mision(destino, *dias, **ReservaComb):\n",
    "    reporte = f\"\"\"\n",
    "    Misión a {destino}\n",
    "    Tiempo del vuelo: {sum(dias)} días\n",
    "    Combustible restante: {sum(ReservaComb.values())} galones\n",
    "    \"\"\"\n",
    "    for nombre_tanque, galones in ReservaComb.items():\n",
    "        reporte += f\"Tanque {nombre_tanque} = {galones} galones \\n\"\n",
    "    return reporte\n",
    "\n",
    "print(mision(\"Júpiter\", 8, 191, 175, principal=30000, reserva=20000))\n",
    "\n"
   ]
  }
 ],
 "metadata": {
  "interpreter": {
   "hash": "aee8b7b246df8f9039afb4144a1f6fd8d2ca17a180786b69acc140d282b71a49"
  },
  "kernelspec": {
   "display_name": "Python 3.10.2 64-bit",
   "language": "python",
   "name": "python3"
  },
  "language_info": {
   "codemirror_mode": {
    "name": "ipython",
    "version": 3
   },
   "file_extension": ".py",
   "mimetype": "text/x-python",
   "name": "python",
   "nbconvert_exporter": "python",
   "pygments_lexer": "ipython3",
   "version": "3.10.2"
  },
  "orig_nbformat": 4
 },
 "nbformat": 4,
 "nbformat_minor": 2
}
